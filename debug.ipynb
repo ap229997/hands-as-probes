{
 "cells": [
  {
   "cell_type": "code",
   "execution_count": 21,
   "metadata": {},
   "outputs": [],
   "source": [
    "import os, sys, numpy, glob\n",
    "filtered_dir = '/data11/mc48/renders/mohit/inpaint_4f_passthrough'\n",
    "files = sorted(glob.glob(os.path.join(filtered_dir, '*/*.jpg')))"
   ]
  },
  {
   "cell_type": "code",
   "execution_count": 22,
   "metadata": {},
   "outputs": [],
   "source": [
    "img_ids = []\n",
    "for file in files:\n",
    "    ids = file.split('/')\n",
    "    unique_id = ids[-2] + '_' + ids[-1]\n",
    "    img_ids.append(unique_id)"
   ]
  },
  {
   "cell_type": "code",
   "execution_count": 23,
   "metadata": {},
   "outputs": [],
   "source": [
    "sampled_path = '/home/adityap9/projects/hands-as-probes/ACP/debug/sampled_img_paths.txt'\n",
    "indices_path = '/home/adityap9/projects/hands-as-probes/ACP/debug/sampled_indices.txt'\n",
    "paths = open(sampled_path, 'r').read().split('\\n')[:-1]\n",
    "indices = open(indices_path, 'r').read().split('\\n')[:-1]"
   ]
  },
  {
   "cell_type": "code",
   "execution_count": 30,
   "metadata": {},
   "outputs": [],
   "source": [
    "new_path = '/home/adityap9/projects/hands-as-probes/ACP/debug/sampled_img_paths_filtered.txt'\n",
    "new_indices = '/home/adityap9/projects/hands-as-probes/ACP/debug/sampled_indices_filtered.txt'\n",
    "count = {}\n",
    "for i in range(len(paths)):\n",
    "    ids = paths[i].split('/')\n",
    "    unique_id = ids[-2] + '_' + ids[-1].split('_')[-1]\n",
    "    if unique_id not in count:\n",
    "        count[unique_id] = 0\n",
    "    else:\n",
    "        count[unique_id] += 1\n",
    "    if unique_id in img_ids and count[unique_id]==0:\n",
    "        count[unique_id] += 1\n",
    "        with open(new_path, 'a') as f:\n",
    "            f.write(paths[i] + '\\n')\n",
    "        with open(new_indices, 'a') as f:\n",
    "            f.write(indices[i] + '\\n')"
   ]
  },
  {
   "cell_type": "code",
   "execution_count": 31,
   "metadata": {},
   "outputs": [
    {
     "data": {
      "text/plain": [
       "49828"
      ]
     },
     "execution_count": 31,
     "metadata": {},
     "output_type": "execute_result"
    }
   ],
   "source": [
    "len(count)"
   ]
  },
  {
   "cell_type": "code",
   "execution_count": 29,
   "metadata": {},
   "outputs": [
    {
     "data": {
      "text/plain": [
       "50000"
      ]
     },
     "execution_count": 29,
     "metadata": {},
     "output_type": "execute_result"
    }
   ],
   "source": [
    "len(np.unique(indices))"
   ]
  },
  {
   "cell_type": "code",
   "execution_count": 23,
   "metadata": {},
   "outputs": [],
   "source": [
    "new_paths = open(new_path,'r').read().split('\\n')[:-1]"
   ]
  },
  {
   "cell_type": "code",
   "execution_count": 30,
   "metadata": {},
   "outputs": [
    {
     "name": "stdout",
     "output_type": "stream",
     "text": [
      "49793 49621 49621\n"
     ]
    }
   ],
   "source": [
    "import numpy as np\n",
    "print (len(new_paths), len(np.unique(new_paths)), len(np.unique(files)))"
   ]
  },
  {
   "cell_type": "code",
   "execution_count": 32,
   "metadata": {},
   "outputs": [],
   "source": [
    "anomaly = '/data11/mc48/renders/mohit/inpaint_4f_passthrough_nested/P28/rgb_frames/P28_23/frame_0000000328.jpg'\n",
    "new_indices = '/home/adityap9/projects/hands-as-probes/ACP/debug/sampled_indices_filtered.txt'\n",
    "new_indices = open(new_indices, 'r').read().split('\\n')[:-1]\n",
    "new_path = '/home/adityap9/projects/hands-as-probes/ACP/debug/sampled_img_paths_filtered.txt'\n",
    "new_paths = open(new_path, 'r').read().split('\\n')[:-1]"
   ]
  },
  {
   "cell_type": "code",
   "execution_count": 5,
   "metadata": {},
   "outputs": [],
   "source": [
    "og_indices = '/home/adityap9/projects/hands-as-probes/ACP/debug/sampled_indices.txt'\n",
    "new_indices = '/home/adityap9/projects/hands-as-probes/ACP/debug/sampled_indices_2.txt'\n",
    "new_img_paths = '/home/adityap9/projects/hands-as-probes/ACP/debug/sampled_img_paths_2.txt'\n",
    "og_indices = open(og_indices, 'r').read().split('\\n')[:-1]\n",
    "new_indices = open(new_indices, 'r').read().split('\\n')[:-1]\n",
    "new_img_paths = open(new_img_paths, 'r').read().split('\\n')[:-1]"
   ]
  },
  {
   "cell_type": "code",
   "execution_count": 6,
   "metadata": {},
   "outputs": [
    {
     "name": "stdout",
     "output_type": "stream",
     "text": [
      "1630\n"
     ]
    }
   ],
   "source": [
    "repeat = 0\n",
    "unique_indices, unique_img_paths = [], []\n",
    "for idx in range(len(new_indices)):\n",
    "    if new_indices[idx] in og_indices:\n",
    "        repeat += 1\n",
    "    else:\n",
    "        unique_indices.append(new_indices[idx])\n",
    "        unique_img_paths.append(new_img_paths[idx])\n",
    "print (repeat)"
   ]
  },
  {
   "cell_type": "code",
   "execution_count": 13,
   "metadata": {},
   "outputs": [],
   "source": [
    "new_path = '/home/adityap9/projects/hands-as-probes/ACP/debug/sampled_img_paths_2_filtered.txt'\n",
    "new_indices = '/home/adityap9/projects/hands-as-probes/ACP/debug/sampled_indices_2_filtered.txt'\n",
    "count = {}\n",
    "paths = unique_img_paths\n",
    "indices = unique_indices\n",
    "for i in range(len(paths)):\n",
    "    with open(new_path, 'a') as f:\n",
    "        f.write(paths[i] + '\\n')\n",
    "    with open(new_indices, 'a') as f:\n",
    "        f.write(indices[i] + '\\n')"
   ]
  },
  {
   "cell_type": "code",
   "execution_count": 4,
   "metadata": {},
   "outputs": [],
   "source": [
    "import os, sys, glob\n",
    "import numpy as np\n",
    "img_dir = '/data11/mc48/renders/mohit/inpaint_4f_best_passthrough'\n",
    "img_paths = sorted(glob.glob(os.path.join(img_dir, '*/*/*/*.png')))"
   ]
  },
  {
   "cell_type": "code",
   "execution_count": 15,
   "metadata": {},
   "outputs": [],
   "source": [
    "img_ids = []\n",
    "for img in img_paths:\n",
    "    name = img.split('/')\n",
    "    unique_id = name[-2] + '_' + name[-1].split('.')[0]\n",
    "    img_ids.append(unique_id)"
   ]
  },
  {
   "cell_type": "code",
   "execution_count": 8,
   "metadata": {},
   "outputs": [],
   "source": [
    "new_path = '/home/adityap9/projects/hands-as-probes/ACP/debug/sampled_img_paths_2_filtered.txt'\n",
    "new_indices = '/home/adityap9/projects/hands-as-probes/ACP/debug/sampled_indices_2_filtered.txt'\n",
    "paths = open(new_path, 'r').read().split('\\n')[:-1]\n",
    "indices = open(new_indices, 'r').read().split('\\n')[:-1]"
   ]
  },
  {
   "cell_type": "code",
   "execution_count": 29,
   "metadata": {},
   "outputs": [],
   "source": [
    "new_path = '/home/adityap9/projects/hands-as-probes/ACP/debug/sampled_img_paths_2_hand_filtered.txt'\n",
    "new_indices = '/home/adityap9/projects/hands-as-probes/ACP/debug/sampled_indices_2_hand_filtered.txt'\n",
    "paths = open(new_path, 'r').read().split('\\n')[:-1]\n",
    "indices = open(new_indices, 'r').read().split('\\n')[:-1]\n",
    "count = {}\n",
    "for i in range(len(paths)):\n",
    "    ids = paths[i].split('/')\n",
    "    unique_id = ids[-2] + '_' + ids[-1].split('.')[0]\n",
    "    # print (unique_id)\n",
    "    # break\n",
    "    if unique_id not in count:\n",
    "        count[unique_id] = 0\n",
    "    else:\n",
    "        count[unique_id] += 1\n",
    "    if unique_id in img_ids and count[unique_id]==0:\n",
    "        count[unique_id] += 1\n",
    "        # with open(new_path, 'a') as f:\n",
    "        #     f.write(paths[i] + '\\n')\n",
    "        # with open(new_indices, 'a') as f:\n",
    "        #     f.write(indices[i] + '\\n')\n",
    "        "
   ]
  },
  {
   "cell_type": "code",
   "execution_count": 48,
   "metadata": {},
   "outputs": [],
   "source": [
    "img_path_50k = '/home/adityap9/projects/hands-as-probes/ACP/debug/sampled_img_paths_filtered.txt'\n",
    "indices_path_50k = '/home/adityap9/projects/hands-as-probes/ACP/debug/sampled_indices_filtered.txt'\n",
    "img_path_50k_more = '/home/adityap9/projects/hands-as-probes/ACP/debug/sampled_img_paths_2_filtered.txt'\n",
    "indices_path_50k_more = '/home/adityap9/projects/hands-as-probes/ACP/debug/sampled_indices_2_filtered.txt'\n",
    "img_path_50k = open(img_path_50k, 'r').read().split('\\n')[:-1]\n",
    "indices_path_50k = open(indices_path_50k, 'r').read().split('\\n')[:-1]\n",
    "img_path_50k_more = open(img_path_50k_more, 'r').read().split('\\n')[:-1]\n",
    "indices_path_50k_more = open(indices_path_50k_more, 'r').read().split('\\n')[:-1]"
   ]
  },
  {
   "cell_type": "code",
   "execution_count": 50,
   "metadata": {},
   "outputs": [],
   "source": [
    "img_path_100k = '/home/adityap9/projects/hands-as-probes/ACP/debug/sampled_img_paths_100k_filtered.txt'\n",
    "indices_path_100k = '/home/adityap9/projects/hands-as-probes/ACP/debug/sampled_indices_100k_filtered.txt'\n",
    "for i in range(len(img_path_50k)):\n",
    "    with open(img_path_100k, 'a') as f:\n",
    "        f.write(img_path_50k[i] + '\\n')\n",
    "    with open(indices_path_100k, 'a') as f:\n",
    "        f.write(indices_path_50k[i] + '\\n')\n",
    "for i in range(len(img_path_50k_more)):\n",
    "    with open(img_path_100k, 'a') as f:\n",
    "        f.write(img_path_50k_more[i] + '\\n')\n",
    "    with open(indices_path_100k, 'a') as f:\n",
    "        f.write(indices_path_50k_more[i] + '\\n')"
   ]
  },
  {
   "cell_type": "code",
   "execution_count": 51,
   "metadata": {},
   "outputs": [
    {
     "name": "stdout",
     "output_type": "stream",
     "text": [
      "97991 97991\n"
     ]
    }
   ],
   "source": [
    "# 49621 48370\n",
    "img_path_100k = open(img_path_100k, 'r').read().split('\\n')[:-1]\n",
    "indices_path_100k = open(indices_path_100k, 'r').read().split('\\n')[:-1]\n",
    "print (len(img_path_100k), len(indices_path_100k))"
   ]
  },
  {
   "cell_type": "code",
   "execution_count": 46,
   "metadata": {},
   "outputs": [],
   "source": [
    "val_img_path = '/home/adityap9/projects/hands-as-probes/ACP/debug/val_img_paths.txt'\n",
    "new_val_path = '/home/adityap9/projects/hands-as-probes/ACP/debug/val_img_paths_filtered.txt'\n",
    "val_imgs = open(val_img_path, 'r').read().split('\\n')[:-1]\n",
    "count = {}\n",
    "for img in val_imgs:\n",
    "    name = img.split('/')\n",
    "    unique_id = name[-2] + '_' + name[-1].split('.')[0]\n",
    "    # print (unique_id)\n",
    "    # break\n",
    "    if unique_id not in count:\n",
    "        count[unique_id] = 0\n",
    "    else:\n",
    "        count[unique_id] += 1\n",
    "    if unique_id in img_ids and count[unique_id]==0:\n",
    "        count[unique_id] += 1\n",
    "        with open(new_val_path, 'a') as f:\n",
    "            f.write(img + '\\n')\n",
    "        # with open(new_indices, 'a') as f:\n",
    "        #     f.write(indices[i] + '\\n')"
   ]
  },
  {
   "cell_type": "code",
   "execution_count": 62,
   "metadata": {},
   "outputs": [],
   "source": [
    "data_100k = '/home/adityap9/projects/hands-as-probes/ACP/debug/sampled_img_paths_100k_hand_filtered.txt'\n",
    "data_100k = open(data_100k, 'r').read().split('\\n')[:-1]\n",
    "anomaly = 0\n",
    "for img in data_100k:\n",
    "    name = img.split('/')\n",
    "    unique_id = name[-2] + '_' + name[-1].split('.')[0]\n",
    "    # print (unique_id)\n",
    "    # break\n",
    "    if unique_id not in img_ids:\n",
    "        anomaly += 1"
   ]
  },
  {
   "cell_type": "code",
   "execution_count": 63,
   "metadata": {},
   "outputs": [
    {
     "data": {
      "text/plain": [
       "(2551, 2551, 0)"
      ]
     },
     "execution_count": 63,
     "metadata": {},
     "output_type": "execute_result"
    }
   ],
   "source": [
    "len(data_100k), len(np.unique(data_100k)), anomaly"
   ]
  },
  {
   "cell_type": "code",
   "execution_count": 100,
   "metadata": {},
   "outputs": [],
   "source": [
    "mow_path = '/home/adityap9/projects/MOW/data/mow/images'\n",
    "mow_imgs = sorted(glob.glob(os.path.join(mow_path, '*.jpg')))\n",
    "required_imgs = {}\n",
    "for img in mow_imgs:\n",
    "    name = img.split('/')[-1]\n",
    "    video_id = name[-27:-16]\n",
    "    frame_id = name[-15:]\n",
    "    if video_id not in videos.keys():\n",
    "        continue\n",
    "    frame_list = videos_frames[video_id]\n",
    "    frames_full = videos[video_id]\n",
    "    curr_index = frame_list.index(frame_id)\n",
    "    if curr_index-4>=0:\n",
    "        required_imgs[img] = frames_full[curr_index-4:curr_index]"
   ]
  },
  {
   "cell_type": "code",
   "execution_count": 96,
   "metadata": {},
   "outputs": [],
   "source": [
    "mow_videos = '/data11/adityap9/100_doh/videos'\n",
    "video_paths = sorted(glob.glob(os.path.join(mow_videos, '*_frames/*')))\n",
    "videos = {}\n",
    "videos_frames = {}\n",
    "for video in video_paths:\n",
    "    video_id = video.split('/')[-1]\n",
    "    videos[video_id] = sorted(glob.glob(os.path.join(video, '*.jpg')))\n",
    "    videos_frames[video_id] = sorted(os.listdir(video))"
   ]
  },
  {
   "cell_type": "code",
   "execution_count": 106,
   "metadata": {},
   "outputs": [
    {
     "name": "stdout",
     "output_type": "stream",
     "text": [
      "/home/adityap9/projects/MOW/data/mow/images/boardgame_v_3hcaVyX00_4_frame000301.jpg\n",
      "['/data11/adityap9/100_doh/videos/mow_train_frames/3hcaVyX00_4/frame000297.jpg', '/data11/adityap9/100_doh/videos/mow_train_frames/3hcaVyX00_4/frame000298.jpg', '/data11/adityap9/100_doh/videos/mow_train_frames/3hcaVyX00_4/frame000299.jpg', '/data11/adityap9/100_doh/videos/mow_train_frames/3hcaVyX00_4/frame000300.jpg']\n"
     ]
    }
   ],
   "source": [
    "# anomaly = 0\n",
    "# for k,v in required_imgs.items():\n",
    "#     if not os.path.exists(k):\n",
    "#         anomaly += 1\n",
    "#     for img in v:\n",
    "#         if not os.path.exists(img):\n",
    "#             anomaly += 1\n",
    "# print (anomaly)"
   ]
  },
  {
   "cell_type": "code",
   "execution_count": 110,
   "metadata": {},
   "outputs": [],
   "source": [
    "import json\n",
    "save_dir = '/home/adityap9/projects/hands-as-probes/ACP/debug'\n",
    "json.dump(required_imgs, open(os.path.join(save_dir, 'mow_all_data.json'), 'w'), indent=4)"
   ]
  },
  {
   "cell_type": "code",
   "execution_count": null,
   "metadata": {},
   "outputs": [],
   "source": []
  }
 ],
 "metadata": {
  "kernelspec": {
   "display_name": "hap",
   "language": "python",
   "name": "python3"
  },
  "language_info": {
   "codemirror_mode": {
    "name": "ipython",
    "version": 3
   },
   "file_extension": ".py",
   "mimetype": "text/x-python",
   "name": "python",
   "nbconvert_exporter": "python",
   "pygments_lexer": "ipython3",
   "version": "3.8.8"
  },
  "orig_nbformat": 4,
  "vscode": {
   "interpreter": {
    "hash": "7c3f64143e03234e7d2c2169465794a3351ba6cf2f3531f69e92a3ecf2eaff8b"
   }
  }
 },
 "nbformat": 4,
 "nbformat_minor": 2
}
